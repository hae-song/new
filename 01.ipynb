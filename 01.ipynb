{
  "nbformat": 4,
  "nbformat_minor": 0,
  "metadata": {
    "colab": {
      "name": "01.ipynb",
      "provenance": [],
      "collapsed_sections": [
        "lhsBnLH4k_2r",
        "DfnXpCwLlplN",
        "bXJc9YtslRtH"
      ],
      "authorship_tag": "ABX9TyPyyTSK8y+5rmoP14MMlHi6",
      "include_colab_link": true
    },
    "kernelspec": {
      "name": "python3",
      "display_name": "Python 3"
    },
    "language_info": {
      "name": "python"
    }
  },
  "cells": [
    {
      "cell_type": "markdown",
      "metadata": {
        "id": "view-in-github",
        "colab_type": "text"
      },
      "source": [
        "<a href=\"https://colab.research.google.com/github/hae-song/python-lecture/blob/main/01.ipynb\" target=\"_parent\"><img src=\"https://colab.research.google.com/assets/colab-badge.svg\" alt=\"Open In Colab\"/></a>"
      ]
    },
    {
      "cell_type": "code",
      "source": [
        "#!sudo apt-get install -y fonts-nanum\n",
        "#!sudo fc-cache - fv\n",
        "#!rm ~/.cache/matplotlib -rf\n",
        "# cache : 메모리 정보?, cpu안에 있는 메모리(병목현상 제거하기 위한), 캐시메모리라고도 한다.\n",
        "# 1. 최초 실행 후 런타임 재기동\n",
        "# 2. 런타임 재기동 후 주석 처리하세요"
      ],
      "metadata": {
        "colab": {
          "base_uri": "https://localhost:8080/"
        },
        "id": "IbQzWJ3yWb4H",
        "outputId": "6d4a29a7-4a87-45f3-d308-98bddcea5aac"
      },
      "execution_count": null,
      "outputs": [
        {
          "output_type": "stream",
          "name": "stdout",
          "text": [
            "Reading package lists... Done\n",
            "Building dependency tree       \n",
            "Reading state information... Done\n",
            "fonts-nanum is already the newest version (20170925-1).\n",
            "0 upgraded, 0 newly installed, 0 to remove and 39 not upgraded.\n"
          ]
        }
      ]
    },
    {
      "cell_type": "code",
      "execution_count": null,
      "metadata": {
        "colab": {
          "base_uri": "https://localhost:8080/",
          "height": 54
        },
        "id": "kqVlhIoUYBuJ",
        "outputId": "ffba05b8-5419-4eb0-d41e-ac2a39a31b64"
      },
      "outputs": [
        {
          "output_type": "stream",
          "name": "stdout",
          "text": [
            "Drive already mounted at /content/drive; to attempt to forcibly remount, call drive.mount(\"/content/drive\", force_remount=True).\n"
          ]
        },
        {
          "output_type": "display_data",
          "data": {
            "text/plain": [
              "<Figure size 432x288 with 0 Axes>"
            ]
          },
          "metadata": {}
        }
      ],
      "source": [
        "%run my_init.py"
      ]
    },
    {
      "cell_type": "code",
      "source": [
        "%matplotlib inline"
      ],
      "metadata": {
        "id": "S7bwa4tCaMbH"
      },
      "execution_count": null,
      "outputs": []
    },
    {
      "cell_type": "code",
      "source": [
        "base_dir = '/content/drive/MyDrive/D02'"
      ],
      "metadata": {
        "id": "dPIMSu7nfqv8"
      },
      "execution_count": null,
      "outputs": []
    },
    {
      "cell_type": "code",
      "source": [
        "%%writefile test.txt\n",
        "이 파일은 테스트 파일입니다\n"
      ],
      "metadata": {
        "colab": {
          "base_uri": "https://localhost:8080/"
        },
        "id": "glS6_QaJf4gG",
        "outputId": "b01b804b-c2ad-4a0a-c57c-d0374441e5c6"
      },
      "execution_count": null,
      "outputs": [
        {
          "output_type": "stream",
          "name": "stdout",
          "text": [
            "Overwriting test.txt\n"
          ]
        }
      ]
    },
    {
      "cell_type": "code",
      "source": [
        "import os\n",
        "\n",
        "file_name = os.path.join(base_dir,'test.txt')\n",
        "print(file_name)"
      ],
      "metadata": {
        "colab": {
          "base_uri": "https://localhost:8080/"
        },
        "id": "Mjb_YFP-g23q",
        "outputId": "b613b740-5c49-4339-d3ac-7cd0e275cc46"
      },
      "execution_count": null,
      "outputs": [
        {
          "output_type": "stream",
          "name": "stdout",
          "text": [
            "/content/drive/MyDrive/D02/test.txt\n"
          ]
        }
      ]
    },
    {
      "cell_type": "code",
      "source": [
        "base_dir + 'test.txt'"
      ],
      "metadata": {
        "colab": {
          "base_uri": "https://localhost:8080/",
          "height": 35
        },
        "id": "9wKH7PWthM5K",
        "outputId": "3300f7b3-860c-4e65-9103-4a04a7e933b1"
      },
      "execution_count": null,
      "outputs": [
        {
          "output_type": "execute_result",
          "data": {
            "text/plain": [
              "'/content/drive/MyDrive/D02test.txt'"
            ],
            "application/vnd.google.colaboratory.intrinsic+json": {
              "type": "string"
            }
          },
          "metadata": {},
          "execution_count": 5
        }
      ]
    },
    {
      "cell_type": "code",
      "source": [
        "f=open(file_name,'w')\n",
        "f.write('이 파일은 테스트 파일입니다.\\n')\n",
        "f.close()"
      ],
      "metadata": {
        "id": "GA3ZQa3eio4w"
      },
      "execution_count": null,
      "outputs": []
    },
    {
      "cell_type": "markdown",
      "source": [
        "#제목1\n",
        "## 제목2\n",
        "### 제목3\n",
        "#### 제목4\n",
        "##### 제목5\n",
        "\n",
        "`f=open(file_name,'w')`<br>\n",
        "`f.write('이 파일은 테스트 파일입니다.\\n')`<br>\n",
        "`f.close()`"
      ],
      "metadata": {
        "id": "5DfZDWhhjSFg"
      }
    },
    {
      "cell_type": "markdown",
      "source": [
        "$y = ax+b$\n",
        "##수식 표현\n"
      ],
      "metadata": {
        "id": "lhsBnLH4k_2r"
      }
    },
    {
      "cell_type": "markdown",
      "source": [
        "선형방정식은 $y=ax+b$와 같은 유형입니다. $X_{i} + X_{i}^{2}$\n",
        "###밑에 첨자"
      ],
      "metadata": {
        "id": "DfnXpCwLlplN"
      }
    },
    {
      "cell_type": "markdown",
      "source": [
        "$$y=ax+b$$\n",
        "##가운데 들어감\n",
        "\n",
        "---\n",
        "\n"
      ],
      "metadata": {
        "id": "bXJc9YtslRtH"
      }
    },
    {
      "cell_type": "markdown",
      "source": [
        "$ \\sum_{n=1}^{\\infty} 2^{-n}= 1 $"
      ],
      "metadata": {
        "id": "fz0qucM-nM1I"
      }
    },
    {
      "cell_type": "markdown",
      "source": [
        "#편차제곱합\n",
        "$\\Sigma(\\bar x-x_i)^2$<br>\n",
        "$\\sigma^{2}=\\sum_{i=1}^{n}(\\bar{x}-{x_i})^2$"
      ],
      "metadata": {
        "id": "Z3M35cadr3PQ"
      }
    },
    {
      "cell_type": "markdown",
      "source": [
        "$$\\sigma^{2}=\\sum_{i=1}^{n}(\\bar{x}-{x_i})^2$$"
      ],
      "metadata": {
        "id": "wAEJ288yu-Kw"
      }
    },
    {
      "cell_type": "code",
      "source": [
        "bream_length = [25.4, 26.3, 26.5, 29.0, 29.0, 29.7, 29.7, 30.0, 30.0, 30.7, 31.0, 31.0, \n",
        "                31.5, 32.0, 32.0, 32.0, 33.0, 33.0, 33.5, 33.5, 34.0, 34.0, 34.5, 35.0, \n",
        "                35.0, 35.0, 35.0, 36.0, 36.0, 37.0, 38.5, 38.5, 39.5, 41.0, 41.0]\n",
        "bream_weight = [242.0, 290.0, 340.0, 363.0, 430.0, 450.0, 500.0, 390.0, 450.0, 500.0, 475.0, 500.0, \n",
        "                500.0, 340.0, 600.0, 600.0, 700.0, 700.0, 610.0, 650.0, 575.0, 685.0, 620.0, 680.0, \n",
        "                700.0, 725.0, 720.0, 714.0, 850.0, 1000.0, 920.0, 955.0, 925.0, 975.0, 950.0]"
      ],
      "metadata": {
        "id": "Ldnf47stk_e2"
      },
      "execution_count": null,
      "outputs": []
    },
    {
      "cell_type": "code",
      "source": [
        "from google.colab import drive\n",
        "drive.mount('/content/drive')\n",
        "\n",
        "import numpy as np\n",
        "import pandas as pd\n",
        "import matplotlib.pyplot as plt\n",
        "import matplotlib as mpl\n",
        "\n",
        "mpl.rcParams['axes.unicode_minus']=False\n",
        "mpl.rcParams['font.family']='NanumBarunGothic'\n",
        "\n",
        "%matplotlib inline"
      ],
      "metadata": {
        "id": "gbe4bfnwj72K"
      },
      "execution_count": null,
      "outputs": []
    },
    {
      "cell_type": "code",
      "source": [
        "len(bream_length)"
      ],
      "metadata": {
        "colab": {
          "base_uri": "https://localhost:8080/"
        },
        "id": "ckiSKncuPAnS",
        "outputId": "d7ac7545-cba9-4c6a-83fd-e30ff0871220"
      },
      "execution_count": null,
      "outputs": [
        {
          "output_type": "execute_result",
          "data": {
            "text/plain": [
              "35"
            ]
          },
          "metadata": {},
          "execution_count": 9
        }
      ]
    },
    {
      "cell_type": "code",
      "source": [
        "len(bream_weight)"
      ],
      "metadata": {
        "colab": {
          "base_uri": "https://localhost:8080/"
        },
        "id": "c6_glqCuPDhZ",
        "outputId": "25a5c2b4-d9e6-4410-aefa-985f2e2587ed"
      },
      "execution_count": null,
      "outputs": [
        {
          "output_type": "execute_result",
          "data": {
            "text/plain": [
              "35"
            ]
          },
          "metadata": {},
          "execution_count": 10
        }
      ]
    },
    {
      "cell_type": "code",
      "source": [
        "#도움말\n",
        "?plt.scatter"
      ],
      "metadata": {
        "id": "Fc5mbc6SPFPp"
      },
      "execution_count": null,
      "outputs": []
    },
    {
      "cell_type": "code",
      "source": [
        "??plt.scatter\n",
        "#signature: 원형\n"
      ],
      "metadata": {
        "id": "aeYJ4im4PbFE"
      },
      "execution_count": null,
      "outputs": []
    },
    {
      "cell_type": "code",
      "source": [
        "plt.scatter(bream_length, bream_weight)\n",
        "plt.xlabel('length')\n",
        "plt.ylabel('weight'),\n",
        "#팁으로 ,찍으면 plt.show()안해도 찍힌다."
      ],
      "metadata": {
        "colab": {
          "base_uri": "https://localhost:8080/",
          "height": 297
        },
        "id": "IX-CharAQOuH",
        "outputId": "3ade0caa-cad1-4fac-bdca-efff2a902e51"
      },
      "execution_count": null,
      "outputs": [
        {
          "output_type": "execute_result",
          "data": {
            "text/plain": [
              "(Text(0, 0.5, 'weight'),)"
            ]
          },
          "metadata": {},
          "execution_count": 12
        },
        {
          "output_type": "display_data",
          "data": {
            "text/plain": [
              "<Figure size 432x288 with 1 Axes>"
            ],
            "image/png": "[encoded data removed]"
          },
          "metadata": {
            "needs_background": "light"
          }
        }
      ]
    },
    {
      "cell_type": "code",
      "source": [
        "smelt_length = [9.8, 10.5, 10.6, 11.0, 11.2, 11.3, 11.8, 11.8, 12.0, 12.2, 12.4, 13.0, 14.3, 15.0]\n",
        "smelt_weight = [6.7, 7.5, 7.0, 9.7, 9.8, 8.7, 10.0, 9.9, 9.8, 12.2, 13.4, 12.2, 19.7, 19.9]"
      ],
      "metadata": {
        "id": "B-F08RJJRmeQ"
      },
      "execution_count": null,
      "outputs": []
    },
    {
      "cell_type": "code",
      "source": [
        "print(f'빙어: length 길이 :{len(smelt_length)}, weight 길이:{len(smelt_weight)}')"
      ],
      "metadata": {
        "colab": {
          "base_uri": "https://localhost:8080/"
        },
        "id": "4-nC015mUvwK",
        "outputId": "ab9836af-1ff0-4efe-be95-cb63801eb04b"
      },
      "execution_count": null,
      "outputs": [
        {
          "output_type": "stream",
          "name": "stdout",
          "text": [
            "빙어: length 길이 :14, weight 길이:14\n"
          ]
        }
      ]
    },
    {
      "cell_type": "code",
      "source": [
        ""
      ],
      "metadata": {
        "id": "j-FL306EYLoy"
      },
      "execution_count": null,
      "outputs": []
    },
    {
      "cell_type": "code",
      "source": [
        "plt.scatter(bream_length, bream_weight)\n",
        "plt.scatter(smelt_length, smelt_weight)\n",
        "plt.xlabel('length')\n",
        "plt.ylabel('weight')\n",
        "plt.legend(['bream','smelt'])\n",
        "plt.show()"
      ],
      "metadata": {
        "colab": {
          "base_uri": "https://localhost:8080/",
          "height": 279
        },
        "id": "zZr6g1-qVX-1",
        "outputId": "e46c6eb3-9942-4674-bd61-f8030195b358"
      },
      "execution_count": null,
      "outputs": [
        {
          "output_type": "display_data",
          "data": {
            "text/plain": [
              "<Figure size 432x288 with 1 Axes>"
            ],
            "image/png": "[encoded data removed]"
          },
          "metadata": {
            "needs_background": "light"
          }
        }
      ]
    },
    {
      "cell_type": "code",
      "source": [
        "type(range(3))\n",
        "#type:range"
      ],
      "metadata": {
        "colab": {
          "base_uri": "https://localhost:8080/"
        },
        "id": "4ijbV6YPWa4_",
        "outputId": "64bad9c2-3220-47c8-992e-e3f8dd9ea738"
      },
      "execution_count": null,
      "outputs": [
        {
          "output_type": "execute_result",
          "data": {
            "text/plain": [
              "range"
            ]
          },
          "metadata": {},
          "execution_count": 21
        }
      ]
    },
    {
      "cell_type": "code",
      "source": [
        "for i in range(3):\n",
        "  print(i)"
      ],
      "metadata": {
        "colab": {
          "base_uri": "https://localhost:8080/"
        },
        "id": "SdWoNYfYV1AG",
        "outputId": "a2d65fec-675d-43aa-845e-b957f3ef60e0"
      },
      "execution_count": null,
      "outputs": [
        {
          "output_type": "stream",
          "name": "stdout",
          "text": [
            "0\n",
            "1\n",
            "2\n"
          ]
        }
      ]
    },
    {
      "cell_type": "code",
      "source": [
        "a = list(range(10,51,10))\n",
        "a"
      ],
      "metadata": {
        "colab": {
          "base_uri": "https://localhost:8080/"
        },
        "id": "RQS0e9Etnxic",
        "outputId": "c4628078-a4d3-4170-f65a-f2721a026f1c"
      },
      "execution_count": null,
      "outputs": [
        {
          "output_type": "execute_result",
          "data": {
            "text/plain": [
              "[10, 20, 30, 40, 50]"
            ]
          },
          "metadata": {},
          "execution_count": 26
        }
      ]
    },
    {
      "cell_type": "code",
      "source": [
        "b=list(range(1,6,1))\n",
        "b"
      ],
      "metadata": {
        "colab": {
          "base_uri": "https://localhost:8080/"
        },
        "id": "fIo9LbtfoFhZ",
        "outputId": "a0427c5e-edfd-4b81-f61d-1af077bdf085"
      },
      "execution_count": null,
      "outputs": [
        {
          "output_type": "execute_result",
          "data": {
            "text/plain": [
              "[1, 2, 3, 4, 5]"
            ]
          },
          "metadata": {},
          "execution_count": 28
        }
      ]
    },
    {
      "cell_type": "code",
      "source": [
        "zip(a,b)\n",
        "#같은 인덱스끼리 쌍으로 묶어주는거\n"
      ],
      "metadata": {
        "colab": {
          "base_uri": "https://localhost:8080/"
        },
        "id": "afy8kdefoQoW",
        "outputId": "80aa6986-75a5-47cf-ca37-a0fcaf2f7323"
      },
      "execution_count": null,
      "outputs": [
        {
          "output_type": "execute_result",
          "data": {
            "text/plain": [
              "<zip at 0x7f6c396f1280>"
            ]
          },
          "metadata": {},
          "execution_count": 29
        }
      ]
    },
    {
      "cell_type": "code",
      "source": [
        "for t in zip(a,b):\n",
        "  print(t)\n",
        "  #튜플로 묶어서 처리한다."
      ],
      "metadata": {
        "colab": {
          "base_uri": "https://localhost:8080/"
        },
        "id": "uRQzqzCYp0E9",
        "outputId": "89055081-45f4-430a-8cc5-5e2a25bd0243"
      },
      "execution_count": null,
      "outputs": [
        {
          "output_type": "stream",
          "name": "stdout",
          "text": [
            "(10, 1)\n",
            "(20, 2)\n",
            "(30, 3)\n",
            "(40, 4)\n",
            "(50, 5)\n"
          ]
        }
      ]
    },
    {
      "cell_type": "code",
      "source": [
        "for x,y in zip(a,b):\n",
        "  print(f'{x},{y}')"
      ],
      "metadata": {
        "colab": {
          "base_uri": "https://localhost:8080/"
        },
        "id": "yGgNZY05qCYM",
        "outputId": "156268ef-ecca-4341-df48-c259ec76fff2"
      },
      "execution_count": null,
      "outputs": [
        {
          "output_type": "stream",
          "name": "stdout",
          "text": [
            "10,1\n",
            "20,2\n",
            "30,3\n",
            "40,4\n",
            "50,5\n"
          ]
        }
      ]
    },
    {
      "cell_type": "code",
      "source": [
        "data = [t for t in zip(a,b)]\n",
        "data"
      ],
      "metadata": {
        "colab": {
          "base_uri": "https://localhost:8080/"
        },
        "id": "eF0Tgz53r-lm",
        "outputId": "c98ef584-d903-4e72-9253-2c5a8e5fa5a0"
      },
      "execution_count": null,
      "outputs": [
        {
          "output_type": "execute_result",
          "data": {
            "text/plain": [
              "[(10, 1), (20, 2), (30, 3), (40, 4), (50, 5)]"
            ]
          },
          "metadata": {},
          "execution_count": 32
        }
      ]
    },
    {
      "cell_type": "code",
      "source": [
        "data2 = [(x,y) for x,y in zip(a,b)]\n",
        "data2"
      ],
      "metadata": {
        "colab": {
          "base_uri": "https://localhost:8080/"
        },
        "id": "Tl6HJCY7siZ0",
        "outputId": "5416c9f5-6aa1-4f6b-f461-19910ea5296d"
      },
      "execution_count": null,
      "outputs": [
        {
          "output_type": "execute_result",
          "data": {
            "text/plain": [
              "[(10, 1), (20, 2), (30, 3), (40, 4), (50, 5)]"
            ]
          },
          "metadata": {},
          "execution_count": 37
        }
      ]
    },
    {
      "cell_type": "code",
      "source": [
        "data3 = [(x*2,y*3) for x,y in zip(a,b)]\n",
        "data3\n",
        "#리스트 컴프리핸션으로 연산."
      ],
      "metadata": {
        "colab": {
          "base_uri": "https://localhost:8080/"
        },
        "id": "FFKpQYrBs_hk",
        "outputId": "b121dee3-bd9f-4fb5-e6ac-dae1739daa12"
      },
      "execution_count": null,
      "outputs": [
        {
          "output_type": "execute_result",
          "data": {
            "text/plain": [
              "[(20, 3), (40, 6), (60, 9), (80, 12), (100, 15)]"
            ]
          },
          "metadata": {},
          "execution_count": 38
        }
      ]
    },
    {
      "cell_type": "code",
      "source": [
        "a = [1,2,3]\n",
        "b={'x':1,'y':2}\n"
      ],
      "metadata": {
        "id": "tuBarIbQ3ti8"
      },
      "execution_count": null,
      "outputs": []
    },
    {
      "cell_type": "code",
      "source": [
        "def fn(*args,**kwargs):\n",
        "  for i, arg in enumerate(args):\n",
        "    print(f'{i}:{arg}')\n",
        "  for k,v in kwargs.items():\n",
        "    print(f'{k}:{v}')"
      ],
      "metadata": {
        "id": "LxuJo6zA3ypU"
      },
      "execution_count": null,
      "outputs": []
    },
    {
      "cell_type": "code",
      "source": [
        "fn(*a,**b)"
      ],
      "metadata": {
        "colab": {
          "base_uri": "https://localhost:8080/"
        },
        "id": "2-6ZBcJ44WD_",
        "outputId": "41d0ba8a-ea7c-448a-85b5-9a50107a01eb"
      },
      "execution_count": null,
      "outputs": [
        {
          "output_type": "stream",
          "name": "stdout",
          "text": [
            "0:1\n",
            "1:2\n",
            "2:3\n",
            "x:1\n",
            "y:2\n"
          ]
        }
      ]
    },
    {
      "cell_type": "code",
      "source": [
        "fn(1,2,3,x=1,y=2)\n",
        "#파이썬 같은 코드\n",
        "#순서가 바뀌면 안됨 무조건 포지션 arg가 먼저 나와야함\n"
      ],
      "metadata": {
        "colab": {
          "base_uri": "https://localhost:8080/"
        },
        "id": "asTnoC4P4nKU",
        "outputId": "00ca8987-de49-488c-ede3-57576be90d41"
      },
      "execution_count": null,
      "outputs": [
        {
          "output_type": "stream",
          "name": "stdout",
          "text": [
            "0:1\n",
            "1:2\n",
            "2:3\n",
            "x:1\n",
            "y:2\n"
          ]
        }
      ]
    }
  ]
}