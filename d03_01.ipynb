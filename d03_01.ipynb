{
  "nbformat": 4,
  "nbformat_minor": 0,
  "metadata": {
    "colab": {
      "name": "d03_01.ipynb",
      "provenance": [],
      "collapsed_sections": [],
      "toc_visible": true
    },
    "kernelspec": {
      "name": "python3",
      "display_name": "Python 3"
    },
    "language_info": {
      "name": "python"
    }
  },
  "cells": [
    {
      "cell_type": "markdown",
      "source": [
        "#데이터 준비하기"
      ],
      "metadata": {
        "id": "FpasoYqObGjR"
      }
    },
    {
      "cell_type": "code",
      "execution_count": null,
      "metadata": {
        "id": "SElHXLzobEeB"
      },
      "outputs": [],
      "source": [
        "bream_length = [25.4, 26.3, 26.5, 29.0, 29.0, 29.7, 29.7, 30.0, 30.0, 30.7, 31.0, 31.0, \n",
        "                31.5, 32.0, 32.0, 32.0, 33.0, 33.0, 33.5, 33.5, 34.0, 34.0, 34.5, 35.0, \n",
        "                35.0, 35.0, 35.0, 36.0, 36.0, 37.0, 38.5, 38.5, 39.5, 41.0, 41.0]\n",
        "bream_weight = [242.0, 290.0, 340.0, 363.0, 430.0, 450.0, 500.0, 390.0, 450.0, 500.0, 475.0, 500.0, \n",
        "                500.0, 340.0, 600.0, 600.0, 700.0, 700.0, 610.0, 650.0, 575.0, 685.0, 620.0, 680.0, \n",
        "                700.0, 725.0, 720.0, 714.0, 850.0, 1000.0, 920.0, 955.0, 925.0, 975.0, 950.0]"
      ]
    },
    {
      "cell_type": "code",
      "source": [
        "smelt_length = [9.8, 10.5, 10.6, 11.0, 11.2, 11.3, 11.8, 11.8, 12.0, 12.2, 12.4, 13.0, 14.3, 15.0]\n",
        "smelt_weight = [6.7, 7.5, 7.0, 9.7, 9.8, 8.7, 10.0, 9.9, 9.8, 12.2, 13.4, 12.2, 19.7, 19.9]"
      ],
      "metadata": {
        "id": "EQD9eAj_bsB3"
      },
      "execution_count": null,
      "outputs": []
    },
    {
      "cell_type": "code",
      "source": [
        "length = bream_length + smelt_length\n",
        "weight = bream_weight + smelt_weight"
      ],
      "metadata": {
        "id": "5tyZNrvGbuKF"
      },
      "execution_count": null,
      "outputs": []
    },
    {
      "cell_type": "code",
      "source": [
        "fish_data = [(l,w) for l,w in zip(length, weight)]"
      ],
      "metadata": {
        "id": "YaovQAJ-b2e4"
      },
      "execution_count": null,
      "outputs": []
    },
    {
      "cell_type": "code",
      "source": [
        "fish_target = [1]*35 + [0]*14\n",
        "#도미: 35개, 빙어:14개"
      ],
      "metadata": {
        "id": "YQQu2kmKcKph"
      },
      "execution_count": null,
      "outputs": []
    },
    {
      "cell_type": "code",
      "source": [
        "len(fish_data)"
      ],
      "metadata": {
        "colab": {
          "base_uri": "https://localhost:8080/"
        },
        "id": "OYKIwfCmcYIM",
        "outputId": "5b805a48-768c-4c70-fa06-27170ce6a136"
      },
      "execution_count": null,
      "outputs": [
        {
          "output_type": "execute_result",
          "data": {
            "text/plain": [
              "49"
            ]
          },
          "metadata": {},
          "execution_count": 6
        }
      ]
    },
    {
      "cell_type": "code",
      "source": [
        "len(fish_target)"
      ],
      "metadata": {
        "colab": {
          "base_uri": "https://localhost:8080/"
        },
        "id": "W5eZeDEGcanT",
        "outputId": "c7fad5cd-abb5-409d-bddb-3cda84d18fad"
      },
      "execution_count": null,
      "outputs": [
        {
          "output_type": "execute_result",
          "data": {
            "text/plain": [
              "49"
            ]
          },
          "metadata": {},
          "execution_count": 7
        }
      ]
    },
    {
      "cell_type": "markdown",
      "source": [
        "#훈련하기"
      ],
      "metadata": {
        "id": "MsHBNFG_gQ6F"
      }
    },
    {
      "cell_type": "code",
      "source": [
        "from sklearn.neighbors import KNeighborsClassifier"
      ],
      "metadata": {
        "id": "3H0gn8kngPCi"
      },
      "execution_count": null,
      "outputs": []
    },
    {
      "cell_type": "code",
      "source": [
        "kn = KNeighborsClassifier()"
      ],
      "metadata": {
        "id": "q6EGivOptJ9S"
      },
      "execution_count": null,
      "outputs": []
    },
    {
      "cell_type": "code",
      "source": [
        "kn.fit(fish_data, fish_target)  #kn이라는 객체 안에 학습된 데이터가 있어야 한다.\n",
        "#KNN classifier 구현체 -> 학습이 없다."
      ],
      "metadata": {
        "colab": {
          "base_uri": "https://localhost:8080/"
        },
        "id": "dYZK9UKSti5u",
        "outputId": "891e034e-f88f-4262-d622-62f80820fc6f"
      },
      "execution_count": null,
      "outputs": [
        {
          "output_type": "execute_result",
          "data": {
            "text/plain": [
              "KNeighborsClassifier()"
            ]
          },
          "metadata": {},
          "execution_count": 10
        }
      ]
    },
    {
      "cell_type": "code",
      "source": [
        "kn.effective_metric_"
      ],
      "metadata": {
        "colab": {
          "base_uri": "https://localhost:8080/",
          "height": 35
        },
        "id": "ly_K472gxEtE",
        "outputId": "1c2ece9d-3519-40e4-a340-dc5911108ee6"
      },
      "execution_count": null,
      "outputs": [
        {
          "output_type": "execute_result",
          "data": {
            "text/plain": [
              "'euclidean'"
            ],
            "application/vnd.google.colaboratory.intrinsic+json": {
              "type": "string"
            }
          },
          "metadata": {},
          "execution_count": 11
        }
      ]
    },
    {
      "cell_type": "code",
      "source": [
        "kn._fit_X.shape"
      ],
      "metadata": {
        "colab": {
          "base_uri": "https://localhost:8080/"
        },
        "id": "XO84j1EDxW13",
        "outputId": "98661c42-63df-4102-cd55-a02fd056f652"
      },
      "execution_count": null,
      "outputs": [
        {
          "output_type": "execute_result",
          "data": {
            "text/plain": [
              "(49, 2)"
            ]
          },
          "metadata": {},
          "execution_count": 12
        }
      ]
    },
    {
      "cell_type": "code",
      "source": [
        "attrs = dir(kn)"
      ],
      "metadata": {
        "id": "KgJFHIDZyFU6"
      },
      "execution_count": null,
      "outputs": []
    },
    {
      "cell_type": "code",
      "source": [
        "x,y=2,3\n",
        "x+y\n"
      ],
      "metadata": {
        "colab": {
          "base_uri": "https://localhost:8080/"
        },
        "id": "Nh4sDq1Kx-ub",
        "outputId": "26a693f2-218c-4d20-c4d4-cf26bdb216e0"
      },
      "execution_count": null,
      "outputs": [
        {
          "output_type": "execute_result",
          "data": {
            "text/plain": [
              "5"
            ]
          },
          "metadata": {},
          "execution_count": 14
        }
      ]
    },
    {
      "cell_type": "code",
      "source": [
        "# _는 마지막 결과를 저장한다.\n",
        "_"
      ],
      "metadata": {
        "colab": {
          "base_uri": "https://localhost:8080/"
        },
        "id": "yEfPWNQfyQgt",
        "outputId": "153bb50f-3872-41bb-ee43-92b8eb1c060e"
      },
      "execution_count": null,
      "outputs": [
        {
          "output_type": "execute_result",
          "data": {
            "text/plain": [
              "5"
            ]
          },
          "metadata": {},
          "execution_count": 15
        }
      ]
    },
    {
      "cell_type": "code",
      "source": [
        "result = 0\n",
        "for i in range(1,6):\n",
        "  result+=i\n",
        "result"
      ],
      "metadata": {
        "colab": {
          "base_uri": "https://localhost:8080/"
        },
        "id": "iq0lvBAk02Ko",
        "outputId": "332585ce-6abc-4e6c-e2f2-b5f532a4391c"
      },
      "execution_count": null,
      "outputs": [
        {
          "output_type": "execute_result",
          "data": {
            "text/plain": [
              "15"
            ]
          },
          "metadata": {},
          "execution_count": 16
        }
      ]
    },
    {
      "cell_type": "code",
      "source": [
        "class MyClass(object):\n",
        "  def __init__(self):\n",
        "    pass  #객체를 초기화할때\n",
        "  def test_method(self):\n",
        "    pass\n",
        "my_obj = MyClass()\n",
        "my_obj.test_method()\n"
      ],
      "metadata": {
        "id": "2IurdZo11a_k"
      },
      "execution_count": null,
      "outputs": []
    },
    {
      "cell_type": "code",
      "source": [
        "1000000"
      ],
      "metadata": {
        "colab": {
          "base_uri": "https://localhost:8080/"
        },
        "id": "f3FNzjvb2rkA",
        "outputId": "4299a183-f403-480b-bf11-7a96329dbb2b"
      },
      "execution_count": null,
      "outputs": [
        {
          "output_type": "execute_result",
          "data": {
            "text/plain": [
              "1000000"
            ]
          },
          "metadata": {},
          "execution_count": 18
        }
      ]
    },
    {
      "cell_type": "code",
      "source": [
        "1_000_000\n",
        "#자릿수"
      ],
      "metadata": {
        "colab": {
          "base_uri": "https://localhost:8080/"
        },
        "id": "e9OwWuKS2tm0",
        "outputId": "41aece8a-5a1a-428d-a45a-3d8dfa27380c"
      },
      "execution_count": null,
      "outputs": [
        {
          "output_type": "execute_result",
          "data": {
            "text/plain": [
              "1000000"
            ]
          },
          "metadata": {},
          "execution_count": 19
        }
      ]
    },
    {
      "cell_type": "code",
      "source": [
        "import re\n",
        "#*:0이상, 1이상(0이면 없어도 된다.)\n",
        "p=re.compile('_[a-zA-Z0-9]*')\n",
        "for attr in attrs:\n",
        "  if p.match(attr):\n",
        "    print(attr)"
      ],
      "metadata": {
        "colab": {
          "base_uri": "https://localhost:8080/"
        },
        "id": "VNdhqhkp3kRP",
        "outputId": "fd859098-61ac-4f90-830f-5ac07f5db417"
      },
      "execution_count": null,
      "outputs": [
        {
          "output_type": "stream",
          "name": "stdout",
          "text": [
            "__abstractmethods__\n",
            "__class__\n",
            "__delattr__\n",
            "__dict__\n",
            "__dir__\n",
            "__doc__\n",
            "__eq__\n",
            "__format__\n",
            "__ge__\n",
            "__getattribute__\n",
            "__getstate__\n",
            "__gt__\n",
            "__hash__\n",
            "__init__\n",
            "__init_subclass__\n",
            "__le__\n",
            "__lt__\n",
            "__module__\n",
            "__ne__\n",
            "__new__\n",
            "__reduce__\n",
            "__reduce_ex__\n",
            "__repr__\n",
            "__setattr__\n",
            "__setstate__\n",
            "__sizeof__\n",
            "__str__\n",
            "__subclasshook__\n",
            "__weakref__\n",
            "_abc_impl\n",
            "_check_algorithm_metric\n",
            "_check_feature_names\n",
            "_check_n_features\n",
            "_estimator_type\n",
            "_fit\n",
            "_fit_X\n",
            "_fit_method\n",
            "_get_param_names\n",
            "_get_tags\n",
            "_kneighbors_reduce_func\n",
            "_more_tags\n",
            "_pairwise\n",
            "_repr_html_\n",
            "_repr_html_inner\n",
            "_repr_mimebundle_\n",
            "_tree\n",
            "_validate_data\n",
            "_y\n"
          ]
        }
      ]
    },
    {
      "cell_type": "code",
      "source": [
        "kn.predict([[30,500]])"
      ],
      "metadata": {
        "colab": {
          "base_uri": "https://localhost:8080/"
        },
        "id": "GiM6sp5z7MLy",
        "outputId": "412d65b6-815b-4db4-ea77-7897f694f565"
      },
      "execution_count": null,
      "outputs": [
        {
          "output_type": "execute_result",
          "data": {
            "text/plain": [
              "array([1])"
            ]
          },
          "metadata": {},
          "execution_count": 21
        }
      ]
    },
    {
      "cell_type": "code",
      "source": [
        "kn.predict([[30,500],[25,100],[29,50],[32,70]])\n"
      ],
      "metadata": {
        "colab": {
          "base_uri": "https://localhost:8080/"
        },
        "id": "uSCS7wu08WuE",
        "outputId": "566776e4-b056-4d64-be31-36e23174472b"
      },
      "execution_count": null,
      "outputs": [
        {
          "output_type": "execute_result",
          "data": {
            "text/plain": [
              "array([1, 0, 0, 0])"
            ]
          },
          "metadata": {},
          "execution_count": 22
        }
      ]
    },
    {
      "cell_type": "code",
      "source": [
        "kn.score(fish_data,fish_target)\n",
        "#결과값이 1.0이면 다 맞췄다."
      ],
      "metadata": {
        "colab": {
          "base_uri": "https://localhost:8080/"
        },
        "id": "pew4_F-i8yzD",
        "outputId": "2ca2710c-ec2c-4767-a649-0d13abb670a7"
      },
      "execution_count": null,
      "outputs": [
        {
          "output_type": "execute_result",
          "data": {
            "text/plain": [
              "1.0"
            ]
          },
          "metadata": {},
          "execution_count": 23
        }
      ]
    },
    {
      "cell_type": "code",
      "source": [
        "kn3 = KNeighborsClassifier(n_neighbors=3)\n",
        "kn3.fit(fish_data, fish_target)"
      ],
      "metadata": {
        "colab": {
          "base_uri": "https://localhost:8080/"
        },
        "id": "poK5WvFs9t9c",
        "outputId": "bc8439dc-7be4-4228-9ccc-6c9abe6bb090"
      },
      "execution_count": null,
      "outputs": [
        {
          "output_type": "execute_result",
          "data": {
            "text/plain": [
              "KNeighborsClassifier(n_neighbors=3)"
            ]
          },
          "metadata": {},
          "execution_count": 24
        }
      ]
    },
    {
      "cell_type": "code",
      "source": [
        "kn49 = KNeighborsClassifier(n_neighbors=49)\n",
        "kn49.fit(fish_data, fish_target)"
      ],
      "metadata": {
        "colab": {
          "base_uri": "https://localhost:8080/"
        },
        "id": "nEFZyYp099XD",
        "outputId": "0a130158-09ae-4167-caed-9488c078ac8f"
      },
      "execution_count": null,
      "outputs": [
        {
          "output_type": "execute_result",
          "data": {
            "text/plain": [
              "KNeighborsClassifier(n_neighbors=49)"
            ]
          },
          "metadata": {},
          "execution_count": 25
        }
      ]
    },
    {
      "cell_type": "code",
      "source": [
        "kn3.score(fish_data,fish_target)"
      ],
      "metadata": {
        "colab": {
          "base_uri": "https://localhost:8080/"
        },
        "id": "DizYZtQ5-Fwq",
        "outputId": "fca736f4-2d8a-4d4b-a3d0-6c67b1bf2ed1"
      },
      "execution_count": null,
      "outputs": [
        {
          "output_type": "execute_result",
          "data": {
            "text/plain": [
              "1.0"
            ]
          },
          "metadata": {},
          "execution_count": 26
        }
      ]
    },
    {
      "cell_type": "code",
      "source": [
        "kn49.score(fish_data, fish_target)"
      ],
      "metadata": {
        "colab": {
          "base_uri": "https://localhost:8080/"
        },
        "id": "c5ngG9-b-JKu",
        "outputId": "d321f08b-9cc1-4a22-b92c-6515cf3e3248"
      },
      "execution_count": null,
      "outputs": [
        {
          "output_type": "execute_result",
          "data": {
            "text/plain": [
              "0.7142857142857143"
            ]
          },
          "metadata": {},
          "execution_count": 27
        }
      ]
    },
    {
      "cell_type": "code",
      "source": [
        "35/49\n",
        "#35:더미, 49:전체"
      ],
      "metadata": {
        "colab": {
          "base_uri": "https://localhost:8080/"
        },
        "id": "wo8pd_Xj-Qws",
        "outputId": "feb314ed-7635-4d26-cf6a-afd11a9e54d7"
      },
      "execution_count": null,
      "outputs": [
        {
          "output_type": "execute_result",
          "data": {
            "text/plain": [
              "0.7142857142857143"
            ]
          },
          "metadata": {},
          "execution_count": 28
        }
      ]
    },
    {
      "cell_type": "code",
      "source": [
        "from sklearn.metrics import accuracy_score"
      ],
      "metadata": {
        "id": "se8_xQ70_BQ4"
      },
      "execution_count": null,
      "outputs": []
    },
    {
      "cell_type": "code",
      "source": [
        "accuracy_score(fish_target, kn.predict(fish_data))"
      ],
      "metadata": {
        "colab": {
          "base_uri": "https://localhost:8080/"
        },
        "id": "cLErnQNJ_EcZ",
        "outputId": "8bf011f9-b3a3-405e-e448-5c493108898e"
      },
      "execution_count": null,
      "outputs": [
        {
          "output_type": "execute_result",
          "data": {
            "text/plain": [
              "1.0"
            ]
          },
          "metadata": {},
          "execution_count": 31
        }
      ]
    },
    {
      "cell_type": "markdown",
      "source": [
        "#연습\n"
      ],
      "metadata": {
        "id": "YlkImzzbXd4R"
      }
    },
    {
      "cell_type": "code",
      "source": [
        "kn = KNeighborsClassifier()\n",
        "kn.fit(fish_data, fish_target) \n",
        "\n",
        "for n in range(5,50):\n",
        "  #k-최근접 이웃 개수 설정\n",
        "  kn.n_neighbors = n\n",
        "  #점수 계산\n",
        "  score = kn.score(fish_data, fish_target)\n",
        "  #100% 정확도에 미치지 못하는 이웃 개수 출력\n",
        "  if score<1:\n",
        "    print(f'n:{n}->{score}')\n",
        "    break\n",
        "  "
      ],
      "metadata": {
        "colab": {
          "base_uri": "https://localhost:8080/"
        },
        "id": "2GK_QEmsXhYn",
        "outputId": "5e126428-e083-462c-c452-bf8a41bd1e24"
      },
      "execution_count": null,
      "outputs": [
        {
          "output_type": "stream",
          "name": "stdout",
          "text": [
            "n:18->0.9795918367346939\n"
          ]
        }
      ]
    },
    {
      "cell_type": "code",
      "source": [
        ""
      ],
      "metadata": {
        "id": "rCM3wJPoYXFv"
      },
      "execution_count": null,
      "outputs": []
    }
  ]
}